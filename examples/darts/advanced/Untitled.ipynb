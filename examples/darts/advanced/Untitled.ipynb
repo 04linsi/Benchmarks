{
 "cells": [
  {
   "cell_type": "code",
   "execution_count": 2,
   "metadata": {},
   "outputs": [],
   "source": [
    "import torch\n",
    "import torch.nn as nn\n",
    "import torch.nn.functional as F\n",
    "from torch.utils.data import DataLoader\n",
    "from torchvision import datasets\n",
    "from torchvision import transforms\n",
    "from operations import OPS"
   ]
  },
  {
   "cell_type": "code",
   "execution_count": 3,
   "metadata": {},
   "outputs": [],
   "source": [
    "train = datasets.MNIST('./data', train=True, transform=transforms.ToTensor(), download=True)\n",
    "valid = datasets.MNIST('./data', train=False)\n",
    "\n",
    "train_loader = DataLoader(train, batch_size=10)"
   ]
  },
  {
   "cell_type": "code",
   "execution_count": 4,
   "metadata": {},
   "outputs": [],
   "source": [
    "x, y = next(iter(train_loader))"
   ]
  },
  {
   "cell_type": "code",
   "execution_count": 5,
   "metadata": {},
   "outputs": [
    {
     "data": {
      "text/plain": [
       "torch.Size([10, 1, 28, 28])"
      ]
     },
     "execution_count": 5,
     "metadata": {},
     "output_type": "execute_result"
    }
   ],
   "source": [
    "x.shape"
   ]
  },
  {
   "cell_type": "code",
   "execution_count": 10,
   "metadata": {},
   "outputs": [],
   "source": [
    "train_loader = torch.utils.data.DataLoader(\n",
    "    datasets.MNIST('../data', train=True, download=True,\n",
    "                   transform=transforms.Compose([\n",
    "                       transforms.ToTensor(),\n",
    "                       transforms.Normalize((0.1307,), (0.3081,))\n",
    "                   ])),\n",
    "    batch_size=10, shuffle=True)"
   ]
  },
  {
   "cell_type": "code",
   "execution_count": 11,
   "metadata": {},
   "outputs": [],
   "source": [
    "x, y = next(iter(train_loader))"
   ]
  },
  {
   "cell_type": "code",
   "execution_count": 12,
   "metadata": {},
   "outputs": [
    {
     "data": {
      "text/plain": [
       "torch.Size([10, 1, 28, 28])"
      ]
     },
     "execution_count": 12,
     "metadata": {},
     "output_type": "execute_result"
    }
   ],
   "source": [
    "x.shape"
   ]
  },
  {
   "cell_type": "code",
   "execution_count": 57,
   "metadata": {},
   "outputs": [],
   "source": [
    "class StemNet(nn.Module):\n",
    "    \"\"\" Network stem\n",
    "\n",
    "    This will always be the beginning of the network.\n",
    "    DARTS will only recompose modules after the stem.\n",
    "    For this reason, we define this separate from the\n",
    "    other modules in the network.\n",
    "\n",
    "    Args:\n",
    "        input_dim: the input dimension for your data\n",
    "\n",
    "        cell_dim: the intermediate dimension size for\n",
    "                  the remaining modules of the network.\n",
    "    \"\"\"\n",
    "    def __init__(self, in_channels: int=1, cell_dim: int=100, kernel_size=3):\n",
    "        super(StemNet, self).__init__()\n",
    "        self.stem = nn.Conv2d(in_channels, cell_dim, kernel_size)\n",
    "\n",
    "    def forward(self, x):\n",
    "        return self.stem(x)\n"
   ]
  },
  {
   "cell_type": "code",
   "execution_count": 58,
   "metadata": {},
   "outputs": [],
   "source": [
    "class ConvBlock(nn.Module):\n",
    "    \"\"\" ReLu -> Conv1d -> BatchNorm \"\"\"\n",
    "\n",
    "    def __init__(self, c_in, c_out, kernel_size, stride, affine=True):\n",
    "        super(ConvBlock, self).__init__()\n",
    "        self.conv = nn.Conv2d(c_in, c_out, kernel_size=kernel_size, stride=stride)\n",
    "\n",
    "    def forward(self, x):\n",
    "        return self.conv(x)"
   ]
  },
  {
   "cell_type": "code",
   "execution_count": 100,
   "metadata": {},
   "outputs": [],
   "source": [
    "class DilConv(nn.Module):\n",
    "    \"\"\" ReLU Dilated Convolution \"\"\"\n",
    "\n",
    "    def __init__(self, c_in, c_out, kernel_size, \n",
    "                 stride, padding, dilation, affine=True):\n",
    "        super(DilConv, self).__init__()\n",
    "\n",
    "        self.op = nn.Sequential(\n",
    "            nn.ReLU(inplace=False),\n",
    "\n",
    "            nn.Conv2d(\n",
    "                c_in,\n",
    "                c_in,\n",
    "                kernel_size=kernel_size,\n",
    "                stride=stride,\n",
    "                padding=padding,\n",
    "                dilation=dilation,\n",
    "                groups=c_in,\n",
    "                bias=False\n",
    "            ),\n",
    "\n",
    "            nn.Conv2d(\n",
    "                c_in,\n",
    "                c_out,\n",
    "                kernel_size=1,\n",
    "                padding=0,\n",
    "                bias=False\n",
    "            ),\n",
    "\n",
    "            nn.BatchNorm2d(c_out, affine=affine),\n",
    "        )\n",
    "\n",
    "    def forward(self, x):\n",
    "        return self.op(x)"
   ]
  },
  {
   "cell_type": "code",
   "execution_count": 101,
   "metadata": {},
   "outputs": [],
   "source": [
    "stem = StemNet()"
   ]
  },
  {
   "cell_type": "code",
   "execution_count": 102,
   "metadata": {},
   "outputs": [],
   "source": [
    "OPS = {\n",
    "    'dil_conv': lambda c, stride, affine: DilConv(c, c, 3, stride, 2, 2, affine=affine),\n",
    "    'conv' : lambda c, stride, affine: ConvBlock(c, c, 3, stride, affine=affine),\n",
    "}"
   ]
  },
  {
   "cell_type": "code",
   "execution_count": 103,
   "metadata": {},
   "outputs": [],
   "source": [
    "conv = OPS['conv'](100, 1, True)"
   ]
  },
  {
   "cell_type": "code",
   "execution_count": 104,
   "metadata": {},
   "outputs": [],
   "source": [
    "dill = OPS['dil_conv'](100, 1, True)"
   ]
  },
  {
   "cell_type": "code",
   "execution_count": 105,
   "metadata": {},
   "outputs": [],
   "source": [
    "out = stem(x)"
   ]
  },
  {
   "cell_type": "code",
   "execution_count": 106,
   "metadata": {},
   "outputs": [
    {
     "data": {
      "text/plain": [
       "torch.Size([10, 100, 26, 26])"
      ]
     },
     "execution_count": 106,
     "metadata": {},
     "output_type": "execute_result"
    }
   ],
   "source": [
    "out.shape"
   ]
  },
  {
   "cell_type": "code",
   "execution_count": 107,
   "metadata": {},
   "outputs": [
    {
     "data": {
      "text/plain": [
       "torch.Size([10, 100, 24, 24])"
      ]
     },
     "execution_count": 107,
     "metadata": {},
     "output_type": "execute_result"
    }
   ],
   "source": [
    "conv(out).shape"
   ]
  },
  {
   "cell_type": "code",
   "execution_count": 108,
   "metadata": {},
   "outputs": [
    {
     "data": {
      "text/plain": [
       "torch.Size([10, 100, 26, 26])"
      ]
     },
     "execution_count": 108,
     "metadata": {},
     "output_type": "execute_result"
    }
   ],
   "source": [
    "dill(out).shape"
   ]
  },
  {
   "cell_type": "code",
   "execution_count": 8,
   "metadata": {},
   "outputs": [
    {
     "data": {
      "text/plain": [
       "torch.Size([100, 1, 26, 26])"
      ]
     },
     "execution_count": 8,
     "metadata": {},
     "output_type": "execute_result"
    }
   ],
   "source": [
    "torch.Size([100, 1, 26, 26])"
   ]
  },
  {
   "cell_type": "code",
   "execution_count": 38,
   "metadata": {},
   "outputs": [],
   "source": [
    "x = torch.randn(torch.Size([100, 1, 26, 26]))\n",
    "y = torch.randn(torch.Size([100, 1, 24, 24]))"
   ]
  },
  {
   "cell_type": "code",
   "execution_count": 39,
   "metadata": {},
   "outputs": [
    {
     "data": {
      "text/plain": [
       "torch.Size([100, 1, 26, 26])"
      ]
     },
     "execution_count": 39,
     "metadata": {},
     "output_type": "execute_result"
    }
   ],
   "source": [
    "x.shape"
   ]
  },
  {
   "cell_type": "code",
   "execution_count": 40,
   "metadata": {},
   "outputs": [
    {
     "data": {
      "text/plain": [
       "torch.Size([100, 1, 24, 24])"
      ]
     },
     "execution_count": 40,
     "metadata": {},
     "output_type": "execute_result"
    }
   ],
   "source": [
    "y.shape"
   ]
  },
  {
   "cell_type": "code",
   "execution_count": 43,
   "metadata": {},
   "outputs": [],
   "source": [
    "new = torch.zeros_like(x)"
   ]
  },
  {
   "cell_type": "code",
   "execution_count": 45,
   "metadata": {},
   "outputs": [],
   "source": [
    "new[:, :, :24, :24] = y"
   ]
  },
  {
   "cell_type": "code",
   "execution_count": 51,
   "metadata": {},
   "outputs": [
    {
     "data": {
      "text/plain": [
       "tensor([[[[ 0.5583, -0.4697, -1.0664,  ...,  0.7064,  0.0000,  0.0000],\n",
       "          [ 0.6258,  0.0675,  0.6688,  ...,  0.6203,  0.0000,  0.0000],\n",
       "          [ 1.1937,  0.2701,  0.2217,  ...,  0.0806,  0.0000,  0.0000],\n",
       "          ...,\n",
       "          [-0.0659, -0.1802,  0.3372,  ..., -0.3461,  0.0000,  0.0000],\n",
       "          [ 0.0000,  0.0000,  0.0000,  ...,  0.0000,  0.0000,  0.0000],\n",
       "          [ 0.0000,  0.0000,  0.0000,  ...,  0.0000,  0.0000,  0.0000]]],\n",
       "\n",
       "\n",
       "        [[[-1.2648, -0.5133, -0.4088,  ..., -0.4855,  0.0000,  0.0000],\n",
       "          [-1.3394,  0.4108,  0.6637,  ...,  1.4993,  0.0000,  0.0000],\n",
       "          [ 0.7185, -0.2766, -0.4765,  ..., -1.1961,  0.0000,  0.0000],\n",
       "          ...,\n",
       "          [-0.1028, -0.8230, -0.9398,  ...,  0.7469,  0.0000,  0.0000],\n",
       "          [ 0.0000,  0.0000,  0.0000,  ...,  0.0000,  0.0000,  0.0000],\n",
       "          [ 0.0000,  0.0000,  0.0000,  ...,  0.0000,  0.0000,  0.0000]]],\n",
       "\n",
       "\n",
       "        [[[ 0.7054,  0.6086, -1.7438,  ...,  0.1894,  0.0000,  0.0000],\n",
       "          [ 0.8151,  0.1001,  1.1741,  ..., -1.1449,  0.0000,  0.0000],\n",
       "          [-0.5580,  1.6470,  0.7271,  ..., -0.4478,  0.0000,  0.0000],\n",
       "          ...,\n",
       "          [-0.1456,  0.5271, -0.5290,  ...,  1.8301,  0.0000,  0.0000],\n",
       "          [ 0.0000,  0.0000,  0.0000,  ...,  0.0000,  0.0000,  0.0000],\n",
       "          [ 0.0000,  0.0000,  0.0000,  ...,  0.0000,  0.0000,  0.0000]]],\n",
       "\n",
       "\n",
       "        ...,\n",
       "\n",
       "\n",
       "        [[[ 0.6753, -1.2837, -0.6700,  ..., -1.3338,  0.0000,  0.0000],\n",
       "          [-0.6663,  0.0904, -0.5048,  ...,  0.9331,  0.0000,  0.0000],\n",
       "          [-1.1993, -0.6174, -0.9150,  ..., -0.2840,  0.0000,  0.0000],\n",
       "          ...,\n",
       "          [-0.4903,  0.0908,  0.9174,  ...,  0.5471,  0.0000,  0.0000],\n",
       "          [ 0.0000,  0.0000,  0.0000,  ...,  0.0000,  0.0000,  0.0000],\n",
       "          [ 0.0000,  0.0000,  0.0000,  ...,  0.0000,  0.0000,  0.0000]]],\n",
       "\n",
       "\n",
       "        [[[-0.4726, -0.0753, -0.5620,  ...,  1.0391,  0.0000,  0.0000],\n",
       "          [-0.9754, -0.9809, -0.2429,  ..., -0.4416,  0.0000,  0.0000],\n",
       "          [-0.0702,  0.5949,  0.8080,  ...,  1.8536,  0.0000,  0.0000],\n",
       "          ...,\n",
       "          [-1.6046,  0.5544,  0.0236,  ...,  0.3422,  0.0000,  0.0000],\n",
       "          [ 0.0000,  0.0000,  0.0000,  ...,  0.0000,  0.0000,  0.0000],\n",
       "          [ 0.0000,  0.0000,  0.0000,  ...,  0.0000,  0.0000,  0.0000]]],\n",
       "\n",
       "\n",
       "        [[[-0.2572,  0.1227, -0.0109,  ...,  0.3023,  0.0000,  0.0000],\n",
       "          [-0.9565, -0.1810,  0.5157,  ...,  0.8777,  0.0000,  0.0000],\n",
       "          [ 0.0078,  2.0418,  2.2871,  ..., -0.0903,  0.0000,  0.0000],\n",
       "          ...,\n",
       "          [ 0.1430, -0.5325,  0.4984,  ...,  1.0231,  0.0000,  0.0000],\n",
       "          [ 0.0000,  0.0000,  0.0000,  ...,  0.0000,  0.0000,  0.0000],\n",
       "          [ 0.0000,  0.0000,  0.0000,  ...,  0.0000,  0.0000,  0.0000]]]])"
      ]
     },
     "execution_count": 51,
     "metadata": {},
     "output_type": "execute_result"
    }
   ],
   "source": [
    "new"
   ]
  },
  {
   "cell_type": "code",
   "execution_count": 48,
   "metadata": {},
   "outputs": [
    {
     "data": {
      "text/plain": [
       "torch.Size([100, 1, 24, 24])"
      ]
     },
     "execution_count": 48,
     "metadata": {},
     "output_type": "execute_result"
    }
   ],
   "source": [
    "y.shape"
   ]
  },
  {
   "cell_type": "code",
   "execution_count": 59,
   "metadata": {},
   "outputs": [
    {
     "data": {
      "text/plain": [
       "True"
      ]
     },
     "execution_count": 59,
     "metadata": {},
     "output_type": "execute_result"
    }
   ],
   "source": [
    "x.shape > y.shape"
   ]
  },
  {
   "cell_type": "code",
   "execution_count": 22,
   "metadata": {},
   "outputs": [],
   "source": [
    "from torch.nn.utils.rnn import pad_sequence"
   ]
  },
  {
   "cell_type": "code",
   "execution_count": 55,
   "metadata": {},
   "outputs": [],
   "source": [
    "result = F.pad(input=y, pad=(1, 1, 1, 1), mode='constant', value=0)"
   ]
  },
  {
   "cell_type": "code",
   "execution_count": 56,
   "metadata": {},
   "outputs": [
    {
     "data": {
      "text/plain": [
       "torch.Size([100, 1, 26, 26])"
      ]
     },
     "execution_count": 56,
     "metadata": {},
     "output_type": "execute_result"
    }
   ],
   "source": [
    "result.shape"
   ]
  },
  {
   "cell_type": "code",
   "execution_count": 60,
   "metadata": {},
   "outputs": [],
   "source": [
    "seq = [x, y, x, y]"
   ]
  },
  {
   "cell_type": "code",
   "execution_count": 64,
   "metadata": {},
   "outputs": [],
   "source": [
    "prev = seq[0]"
   ]
  },
  {
   "cell_type": "code",
   "execution_count": 67,
   "metadata": {},
   "outputs": [],
   "source": [
    "prev = seq[0]\n",
    "padded = [prev]\n",
    "for tensor in seq:\n",
    "    if tensor.shape < prev.shape:\n",
    "        tensor_pad = F.pad(\n",
    "            input=tensor, pad=(1, 1, 1, 1), mode='constant', value=0\n",
    "        )\n",
    "        padded.append(tensor_pad)\n",
    "    else:\n",
    "        padded.append(tensor)\n",
    "    prev = tensor"
   ]
  },
  {
   "cell_type": "code",
   "execution_count": 68,
   "metadata": {},
   "outputs": [
    {
     "data": {
      "text/plain": [
       "torch.Size([100, 1, 26, 26])"
      ]
     },
     "execution_count": 68,
     "metadata": {},
     "output_type": "execute_result"
    }
   ],
   "source": [
    "sum(padded).shape"
   ]
  },
  {
   "cell_type": "code",
   "execution_count": null,
   "metadata": {},
   "outputs": [],
   "source": []
  }
 ],
 "metadata": {
  "kernelspec": {
   "display_name": "Python 3",
   "language": "python",
   "name": "python3"
  },
  "language_info": {
   "codemirror_mode": {
    "name": "ipython",
    "version": 3
   },
   "file_extension": ".py",
   "mimetype": "text/x-python",
   "name": "python",
   "nbconvert_exporter": "python",
   "pygments_lexer": "ipython3",
   "version": "3.7.7"
  }
 },
 "nbformat": 4,
 "nbformat_minor": 4
}
